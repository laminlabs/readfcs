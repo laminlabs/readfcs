{
 "cells": [
  {
   "cell_type": "markdown",
   "id": "1d7b3b73-75f9-468d-8783-873ebadcab9b",
   "metadata": {},
   "source": [
    "# Exploring fcs readers\n",
    "\n",
    "This notebook explores a couple popular fcs python readers:\n",
    "- pytometry\n",
    "- fcsparser\n",
    "- flowio\n",
    "- cytopy"
   ]
  },
  {
   "cell_type": "code",
   "execution_count": null,
   "id": "2435de87",
   "metadata": {},
   "outputs": [],
   "source": [
    "from nbproject import header"
   ]
  },
  {
   "cell_type": "code",
   "execution_count": 1,
   "id": "9f145854",
   "metadata": {},
   "outputs": [],
   "source": [
    "%load_ext autoreload\n",
    "%autoreload 2"
   ]
  },
  {
   "cell_type": "markdown",
   "id": "d9b18fb5",
   "metadata": {},
   "source": [
    "## Data"
   ]
  },
  {
   "cell_type": "code",
   "execution_count": 4,
   "id": "264b82e5",
   "metadata": {},
   "outputs": [],
   "source": [
    "import os\n",
    "from pathlib import Path\n",
    "\n",
    "# adjust this directory as needed\n",
    "emailed_data = (\n",
    "    Path.home() / \"Library/Mobile Documents/com~apple~CloudDocs/Lamin/Emailed data\"\n",
    ")\n",
    "\n",
    "basedir = os.chdir(emailed_data / \"2021-03-24 Maren DZNE/data\")\n",
    "\n",
    "path_data = Path(\"A1 3804-CV-1 DMSO.785309.fcs\")"
   ]
  },
  {
   "cell_type": "markdown",
   "id": "03b6658e",
   "metadata": {},
   "source": [
    "## pytometry\n",
    "\n",
    "- pytometry parse data into an AnnData object\n",
    "- stores headers in .uns['meta']\n",
    "- stores spillover matrix in .uns['spill_mat']\n",
    "- computes a compensation matrix from spillover matrix and store it in .uns['comp_mat']"
   ]
  },
  {
   "cell_type": "code",
   "execution_count": 6,
   "id": "75092406",
   "metadata": {},
   "outputs": [
    {
     "data": {
      "text/plain": [
       "AnnData object with n_obs × n_vars = 500886 × 19\n",
       "    uns: 'meta', 'spill_mat', 'comp_mat'"
      ]
     },
     "execution_count": 6,
     "metadata": {},
     "output_type": "execute_result"
    }
   ],
   "source": [
    "import pytometry as pm\n",
    "\n",
    "adata = pm.io.readandconvert(path_data)\n",
    "adata"
   ]
  },
  {
   "cell_type": "code",
   "execution_count": 76,
   "id": "a776906c",
   "metadata": {},
   "outputs": [
    {
     "data": {
      "text/html": [
       "<div>\n",
       "<style scoped>\n",
       "    .dataframe tbody tr th:only-of-type {\n",
       "        vertical-align: middle;\n",
       "    }\n",
       "\n",
       "    .dataframe tbody tr th {\n",
       "        vertical-align: top;\n",
       "    }\n",
       "\n",
       "    .dataframe thead th {\n",
       "        text-align: right;\n",
       "    }\n",
       "</style>\n",
       "<table border=\"1\" class=\"dataframe\">\n",
       "  <thead>\n",
       "    <tr style=\"text-align: right;\">\n",
       "      <th></th>\n",
       "      <th>CCR7-FITC-A</th>\n",
       "      <th>OX40-PE-Cy7-A</th>\n",
       "      <th>CD69-PE-A</th>\n",
       "      <th>CD8-BV650-A</th>\n",
       "      <th>CD45RA-BV421-A</th>\n",
       "      <th>CD4-BV605-A</th>\n",
       "      <th>DUMP-V500-A</th>\n",
       "      <th>CD3-AF700-A</th>\n",
       "      <th>CD137-APC-A</th>\n",
       "    </tr>\n",
       "  </thead>\n",
       "  <tbody>\n",
       "    <tr>\n",
       "      <th>0</th>\n",
       "      <td>1.0000</td>\n",
       "      <td>0.0000</td>\n",
       "      <td>0.0001</td>\n",
       "      <td>0.0004</td>\n",
       "      <td>0.0000</td>\n",
       "      <td>0.0101</td>\n",
       "      <td>0.0520</td>\n",
       "      <td>0.0000</td>\n",
       "      <td>0.0001</td>\n",
       "    </tr>\n",
       "    <tr>\n",
       "      <th>1</th>\n",
       "      <td>0.0059</td>\n",
       "      <td>1.0000</td>\n",
       "      <td>0.0353</td>\n",
       "      <td>0.0003</td>\n",
       "      <td>0.0000</td>\n",
       "      <td>0.0064</td>\n",
       "      <td>0.0062</td>\n",
       "      <td>0.0179</td>\n",
       "      <td>0.0018</td>\n",
       "    </tr>\n",
       "    <tr>\n",
       "      <th>2</th>\n",
       "      <td>0.0199</td>\n",
       "      <td>0.0009</td>\n",
       "      <td>1.0000</td>\n",
       "      <td>0.0047</td>\n",
       "      <td>0.0001</td>\n",
       "      <td>0.0887</td>\n",
       "      <td>0.0487</td>\n",
       "      <td>0.0071</td>\n",
       "      <td>0.0012</td>\n",
       "    </tr>\n",
       "    <tr>\n",
       "      <th>3</th>\n",
       "      <td>0.0034</td>\n",
       "      <td>0.0125</td>\n",
       "      <td>0.0005</td>\n",
       "      <td>1.0000</td>\n",
       "      <td>0.0120</td>\n",
       "      <td>0.6845</td>\n",
       "      <td>0.0503</td>\n",
       "      <td>0.2263</td>\n",
       "      <td>0.4818</td>\n",
       "    </tr>\n",
       "    <tr>\n",
       "      <th>4</th>\n",
       "      <td>0.0087</td>\n",
       "      <td>0.0001</td>\n",
       "      <td>0.0006</td>\n",
       "      <td>0.0050</td>\n",
       "      <td>1.0000</td>\n",
       "      <td>0.1044</td>\n",
       "      <td>1.6071</td>\n",
       "      <td>0.0005</td>\n",
       "      <td>0.0011</td>\n",
       "    </tr>\n",
       "    <tr>\n",
       "      <th>5</th>\n",
       "      <td>0.0019</td>\n",
       "      <td>0.0059</td>\n",
       "      <td>0.0159</td>\n",
       "      <td>0.1277</td>\n",
       "      <td>0.0021</td>\n",
       "      <td>1.0000</td>\n",
       "      <td>0.0282</td>\n",
       "      <td>0.0002</td>\n",
       "      <td>0.0007</td>\n",
       "    </tr>\n",
       "    <tr>\n",
       "      <th>6</th>\n",
       "      <td>0.0470</td>\n",
       "      <td>0.0000</td>\n",
       "      <td>0.0001</td>\n",
       "      <td>0.0175</td>\n",
       "      <td>0.0000</td>\n",
       "      <td>0.2314</td>\n",
       "      <td>1.0000</td>\n",
       "      <td>0.0000</td>\n",
       "      <td>0.0001</td>\n",
       "    </tr>\n",
       "    <tr>\n",
       "      <th>7</th>\n",
       "      <td>0.0077</td>\n",
       "      <td>0.0120</td>\n",
       "      <td>0.0002</td>\n",
       "      <td>0.0008</td>\n",
       "      <td>0.0000</td>\n",
       "      <td>0.0047</td>\n",
       "      <td>0.0078</td>\n",
       "      <td>1.0000</td>\n",
       "      <td>0.0367</td>\n",
       "    </tr>\n",
       "    <tr>\n",
       "      <th>8</th>\n",
       "      <td>0.0007</td>\n",
       "      <td>0.0067</td>\n",
       "      <td>0.0001</td>\n",
       "      <td>0.0202</td>\n",
       "      <td>0.0000</td>\n",
       "      <td>0.0022</td>\n",
       "      <td>0.0024</td>\n",
       "      <td>0.3411</td>\n",
       "      <td>1.0000</td>\n",
       "    </tr>\n",
       "  </tbody>\n",
       "</table>\n",
       "</div>"
      ],
      "text/plain": [
       "   CCR7-FITC-A  OX40-PE-Cy7-A  CD69-PE-A  CD8-BV650-A  CD45RA-BV421-A  \\\n",
       "0       1.0000         0.0000     0.0001       0.0004          0.0000   \n",
       "1       0.0059         1.0000     0.0353       0.0003          0.0000   \n",
       "2       0.0199         0.0009     1.0000       0.0047          0.0001   \n",
       "3       0.0034         0.0125     0.0005       1.0000          0.0120   \n",
       "4       0.0087         0.0001     0.0006       0.0050          1.0000   \n",
       "5       0.0019         0.0059     0.0159       0.1277          0.0021   \n",
       "6       0.0470         0.0000     0.0001       0.0175          0.0000   \n",
       "7       0.0077         0.0120     0.0002       0.0008          0.0000   \n",
       "8       0.0007         0.0067     0.0001       0.0202          0.0000   \n",
       "\n",
       "   CD4-BV605-A  DUMP-V500-A  CD3-AF700-A  CD137-APC-A  \n",
       "0       0.0101       0.0520       0.0000       0.0001  \n",
       "1       0.0064       0.0062       0.0179       0.0018  \n",
       "2       0.0887       0.0487       0.0071       0.0012  \n",
       "3       0.6845       0.0503       0.2263       0.4818  \n",
       "4       0.1044       1.6071       0.0005       0.0011  \n",
       "5       1.0000       0.0282       0.0002       0.0007  \n",
       "6       0.2314       1.0000       0.0000       0.0001  \n",
       "7       0.0047       0.0078       1.0000       0.0367  \n",
       "8       0.0022       0.0024       0.3411       1.0000  "
      ]
     },
     "execution_count": 76,
     "metadata": {},
     "output_type": "execute_result"
    }
   ],
   "source": [
    "adata.uns[\"spill_mat\"]"
   ]
  },
  {
   "cell_type": "markdown",
   "id": "dce6f849",
   "metadata": {},
   "source": [
    "## fcsparser\n",
    "\n",
    "fcsparser is very basic, just parses the file into two objects: \n",
    "- meta: a dict containing info\n",
    "- data: a dataframe"
   ]
  },
  {
   "cell_type": "code",
   "execution_count": 5,
   "id": "edc8c56a",
   "metadata": {},
   "outputs": [],
   "source": [
    "import fcsparser\n",
    "\n",
    "meta, data = fcsparser.parse(path_data, reformat_meta=True)"
   ]
  },
  {
   "cell_type": "code",
   "execution_count": 9,
   "id": "1c3d77ed",
   "metadata": {},
   "outputs": [
    {
     "data": {
      "text/plain": [
       "(500886, 19)"
      ]
     },
     "execution_count": 9,
     "metadata": {},
     "output_type": "execute_result"
    }
   ],
   "source": [
    "data.shape"
   ]
  },
  {
   "cell_type": "code",
   "execution_count": 37,
   "id": "d6aaaafa",
   "metadata": {},
   "outputs": [
    {
     "data": {
      "text/plain": [
       "dict_keys(['__header__', '$BEGINANALYSIS', '$BEGINDATA', '$BEGINSTEXT', '$BYTEORD', '$DATATYPE', '$ENDANALYSIS', '$ENDDATA', '$ENDSTEXT', '$MODE', '$NEXTDATA', '$PAR', '$P4F', '$P4L', '$P5F', '$P5L', '$P6F', '$P6L', '$P7F', '$P7L', '$P8F', '$P8L', '$P9F', '$P9L', '$P10F', '$P10L', '$P11F', '$P11L', '$P12F', '$P12L', '$P13F', '$P13L', '$P14F', '$P14L', '$P15F', '$P15L', '$P16F', '$P16L', '$P17F', '$P17L', '$P18F', '$P18L', '$TOT', '$BTIM', '$CYT', '$CYTSN', '$DATE', '$ETIM', '$FIL', '$SPILLOVER', '$TIMESTEP', '$TR', '$VOL', '$WELLID', '_channels_', '_channel_names_'])"
      ]
     },
     "execution_count": 37,
     "metadata": {},
     "output_type": "execute_result"
    }
   ],
   "source": [
    "meta.keys()"
   ]
  },
  {
   "cell_type": "code",
   "execution_count": 35,
   "id": "0133a527",
   "metadata": {},
   "outputs": [
    {
     "data": {
      "text/html": [
       "<div>\n",
       "<style scoped>\n",
       "    .dataframe tbody tr th:only-of-type {\n",
       "        vertical-align: middle;\n",
       "    }\n",
       "\n",
       "    .dataframe tbody tr th {\n",
       "        vertical-align: top;\n",
       "    }\n",
       "\n",
       "    .dataframe thead th {\n",
       "        text-align: right;\n",
       "    }\n",
       "</style>\n",
       "<table border=\"1\" class=\"dataframe\">\n",
       "  <thead>\n",
       "    <tr style=\"text-align: right;\">\n",
       "      <th></th>\n",
       "      <th>$PnB</th>\n",
       "      <th>$PnE</th>\n",
       "      <th>$PnN</th>\n",
       "      <th>$PnR</th>\n",
       "      <th>$PnO</th>\n",
       "      <th>$PnS</th>\n",
       "      <th>$PnV</th>\n",
       "    </tr>\n",
       "    <tr>\n",
       "      <th>Channel Number</th>\n",
       "      <th></th>\n",
       "      <th></th>\n",
       "      <th></th>\n",
       "      <th></th>\n",
       "      <th></th>\n",
       "      <th></th>\n",
       "      <th></th>\n",
       "    </tr>\n",
       "  </thead>\n",
       "  <tbody>\n",
       "    <tr>\n",
       "      <th>1</th>\n",
       "      <td>32</td>\n",
       "      <td>[0, 0]</td>\n",
       "      <td>T0</td>\n",
       "      <td>2147483647</td>\n",
       "      <td>0</td>\n",
       "      <td>TLSW</td>\n",
       "      <td>0</td>\n",
       "    </tr>\n",
       "    <tr>\n",
       "      <th>2</th>\n",
       "      <td>32</td>\n",
       "      <td>[0, 0]</td>\n",
       "      <td>T1</td>\n",
       "      <td>2147483647</td>\n",
       "      <td>0</td>\n",
       "      <td>TMSW</td>\n",
       "      <td>0</td>\n",
       "    </tr>\n",
       "    <tr>\n",
       "      <th>3</th>\n",
       "      <td>32</td>\n",
       "      <td>[0, 0]</td>\n",
       "      <td>INFO</td>\n",
       "      <td>2147483647</td>\n",
       "      <td>0</td>\n",
       "      <td>Event Info</td>\n",
       "      <td>0</td>\n",
       "    </tr>\n",
       "    <tr>\n",
       "      <th>4</th>\n",
       "      <td>32</td>\n",
       "      <td>[0, 0]</td>\n",
       "      <td>FS00-H</td>\n",
       "      <td>2147483647</td>\n",
       "      <td>100</td>\n",
       "      <td>FSC 488/10-H</td>\n",
       "      <td>294</td>\n",
       "    </tr>\n",
       "    <tr>\n",
       "      <th>5</th>\n",
       "      <td>32</td>\n",
       "      <td>[0, 0]</td>\n",
       "      <td>FS00-A</td>\n",
       "      <td>2147483647</td>\n",
       "      <td>100</td>\n",
       "      <td>FSC 488/10-A</td>\n",
       "      <td>294</td>\n",
       "    </tr>\n",
       "    <tr>\n",
       "      <th>6</th>\n",
       "      <td>32</td>\n",
       "      <td>[0, 0]</td>\n",
       "      <td>FS00-W</td>\n",
       "      <td>2147483647</td>\n",
       "      <td>100</td>\n",
       "      <td>FSC 488/10-W</td>\n",
       "      <td>294</td>\n",
       "    </tr>\n",
       "    <tr>\n",
       "      <th>7</th>\n",
       "      <td>32</td>\n",
       "      <td>[0, 0]</td>\n",
       "      <td>SS01-H</td>\n",
       "      <td>2147483647</td>\n",
       "      <td>100</td>\n",
       "      <td>SSC 488/10-H</td>\n",
       "      <td>622</td>\n",
       "    </tr>\n",
       "    <tr>\n",
       "      <th>8</th>\n",
       "      <td>32</td>\n",
       "      <td>[0, 0]</td>\n",
       "      <td>SS01-A</td>\n",
       "      <td>2147483647</td>\n",
       "      <td>100</td>\n",
       "      <td>SSC 488/10-A</td>\n",
       "      <td>622</td>\n",
       "    </tr>\n",
       "    <tr>\n",
       "      <th>9</th>\n",
       "      <td>32</td>\n",
       "      <td>[0, 0]</td>\n",
       "      <td>SS01-W</td>\n",
       "      <td>2147483647</td>\n",
       "      <td>100</td>\n",
       "      <td>SSC 488/10-W</td>\n",
       "      <td>622</td>\n",
       "    </tr>\n",
       "    <tr>\n",
       "      <th>10</th>\n",
       "      <td>32</td>\n",
       "      <td>[0, 0]</td>\n",
       "      <td>FL02-A</td>\n",
       "      <td>2147483647</td>\n",
       "      <td>100</td>\n",
       "      <td>CCR7-FITC-A</td>\n",
       "      <td>573</td>\n",
       "    </tr>\n",
       "    <tr>\n",
       "      <th>11</th>\n",
       "      <td>32</td>\n",
       "      <td>[0, 0]</td>\n",
       "      <td>FL08-A</td>\n",
       "      <td>2147483647</td>\n",
       "      <td>50</td>\n",
       "      <td>OX40-PE-Cy7-A</td>\n",
       "      <td>572</td>\n",
       "    </tr>\n",
       "    <tr>\n",
       "      <th>12</th>\n",
       "      <td>32</td>\n",
       "      <td>[0, 0]</td>\n",
       "      <td>FL12-A</td>\n",
       "      <td>2147483647</td>\n",
       "      <td>50</td>\n",
       "      <td>CD69-PE-A</td>\n",
       "      <td>603</td>\n",
       "    </tr>\n",
       "    <tr>\n",
       "      <th>13</th>\n",
       "      <td>32</td>\n",
       "      <td>[0, 0]</td>\n",
       "      <td>FL15-A</td>\n",
       "      <td>2147483647</td>\n",
       "      <td>100</td>\n",
       "      <td>CD8-BV650-A</td>\n",
       "      <td>568</td>\n",
       "    </tr>\n",
       "    <tr>\n",
       "      <th>14</th>\n",
       "      <td>32</td>\n",
       "      <td>[0, 0]</td>\n",
       "      <td>FL19-A</td>\n",
       "      <td>2147483647</td>\n",
       "      <td>100</td>\n",
       "      <td>CD45RA-BV421-A</td>\n",
       "      <td>389</td>\n",
       "    </tr>\n",
       "    <tr>\n",
       "      <th>15</th>\n",
       "      <td>32</td>\n",
       "      <td>[0, 0]</td>\n",
       "      <td>FL20-A</td>\n",
       "      <td>2147483647</td>\n",
       "      <td>100</td>\n",
       "      <td>CD4-BV605-A</td>\n",
       "      <td>631</td>\n",
       "    </tr>\n",
       "    <tr>\n",
       "      <th>16</th>\n",
       "      <td>32</td>\n",
       "      <td>[0, 0]</td>\n",
       "      <td>FL21-A</td>\n",
       "      <td>2147483647</td>\n",
       "      <td>100</td>\n",
       "      <td>DUMP-V500-A</td>\n",
       "      <td>518</td>\n",
       "    </tr>\n",
       "    <tr>\n",
       "      <th>17</th>\n",
       "      <td>32</td>\n",
       "      <td>[0, 0]</td>\n",
       "      <td>FL22-A</td>\n",
       "      <td>2147483647</td>\n",
       "      <td>100</td>\n",
       "      <td>CD3-AF700-A</td>\n",
       "      <td>618</td>\n",
       "    </tr>\n",
       "    <tr>\n",
       "      <th>18</th>\n",
       "      <td>32</td>\n",
       "      <td>[0, 0]</td>\n",
       "      <td>FL25-A</td>\n",
       "      <td>2147483647</td>\n",
       "      <td>100</td>\n",
       "      <td>CD137-APC-A</td>\n",
       "      <td>669</td>\n",
       "    </tr>\n",
       "    <tr>\n",
       "      <th>19</th>\n",
       "      <td>32</td>\n",
       "      <td>[0, 0]</td>\n",
       "      <td>TIME</td>\n",
       "      <td>2147483647</td>\n",
       "      <td>0</td>\n",
       "      <td>TIME</td>\n",
       "      <td>0</td>\n",
       "    </tr>\n",
       "  </tbody>\n",
       "</table>\n",
       "</div>"
      ],
      "text/plain": [
       "                $PnB    $PnE    $PnN        $PnR $PnO            $PnS $PnV\n",
       "Channel Number                                                            \n",
       "1                 32  [0, 0]      T0  2147483647    0            TLSW    0\n",
       "2                 32  [0, 0]      T1  2147483647    0            TMSW    0\n",
       "3                 32  [0, 0]    INFO  2147483647    0      Event Info    0\n",
       "4                 32  [0, 0]  FS00-H  2147483647  100    FSC 488/10-H  294\n",
       "5                 32  [0, 0]  FS00-A  2147483647  100    FSC 488/10-A  294\n",
       "6                 32  [0, 0]  FS00-W  2147483647  100    FSC 488/10-W  294\n",
       "7                 32  [0, 0]  SS01-H  2147483647  100    SSC 488/10-H  622\n",
       "8                 32  [0, 0]  SS01-A  2147483647  100    SSC 488/10-A  622\n",
       "9                 32  [0, 0]  SS01-W  2147483647  100    SSC 488/10-W  622\n",
       "10                32  [0, 0]  FL02-A  2147483647  100     CCR7-FITC-A  573\n",
       "11                32  [0, 0]  FL08-A  2147483647   50   OX40-PE-Cy7-A  572\n",
       "12                32  [0, 0]  FL12-A  2147483647   50       CD69-PE-A  603\n",
       "13                32  [0, 0]  FL15-A  2147483647  100     CD8-BV650-A  568\n",
       "14                32  [0, 0]  FL19-A  2147483647  100  CD45RA-BV421-A  389\n",
       "15                32  [0, 0]  FL20-A  2147483647  100     CD4-BV605-A  631\n",
       "16                32  [0, 0]  FL21-A  2147483647  100     DUMP-V500-A  518\n",
       "17                32  [0, 0]  FL22-A  2147483647  100     CD3-AF700-A  618\n",
       "18                32  [0, 0]  FL25-A  2147483647  100     CD137-APC-A  669\n",
       "19                32  [0, 0]    TIME  2147483647    0            TIME    0"
      ]
     },
     "execution_count": 35,
     "metadata": {},
     "output_type": "execute_result"
    }
   ],
   "source": [
    "meta.get(\"_channels_\")"
   ]
  },
  {
   "cell_type": "markdown",
   "id": "bfbb275a",
   "metadata": {},
   "source": [
    "## flowio\n",
    "\n",
    "FlowIO retrieves event data exactly as it is encoded in the FCS file: as a 1-dimensional list without separating the events into channels. However, all the metadata found within the FCS file is available as a dictionary via the 'text' attribute. Basic attributes are also available for commonly accessed properties."
   ]
  },
  {
   "cell_type": "markdown",
   "id": "cd7223ab",
   "metadata": {},
   "source": [
    "- operates as FlowData objects\n",
    "- couldn't handle Path object as input\n",
    "- gives a warning to set `ignore_offset_error=True`"
   ]
  },
  {
   "cell_type": "code",
   "execution_count": 14,
   "id": "d729105a",
   "metadata": {},
   "outputs": [
    {
     "name": "stderr",
     "output_type": "stream",
     "text": [
      "/opt/miniconda3/envs/py39/lib/python3.9/site-packages/flowio/flowdata.py:240: UserWarning: FCS file A1 3804-CV-1 DMSO.785309.fcs reported incorrect data offset. Attempting to parse data section, but event data should be reviewed before trusting this file.\n",
      "  warn(warn_msg)\n"
     ]
    }
   ],
   "source": [
    "import flowio\n",
    "\n",
    "fcs_data = flowio.FlowData(\"A1 3804-CV-1 DMSO.785309.fcs\", ignore_offset_error=True)"
   ]
  },
  {
   "cell_type": "code",
   "execution_count": 52,
   "id": "ad968f38",
   "metadata": {},
   "outputs": [
    {
     "data": {
      "text/plain": [
       "['name',\n",
       " 'file_size',\n",
       " 'header',\n",
       " 'text',\n",
       " 'channel_count',\n",
       " 'event_count',\n",
       " 'analysis',\n",
       " 'events',\n",
       " 'channels',\n",
       " 'write_fcs']"
      ]
     },
     "execution_count": 52,
     "metadata": {},
     "output_type": "execute_result"
    }
   ],
   "source": [
    "[i for i in fcs_data.__dir__() if not i.startswith(\"_\")]"
   ]
  },
  {
   "cell_type": "code",
   "execution_count": 57,
   "id": "baf6e3ea",
   "metadata": {},
   "outputs": [
    {
     "data": {
      "text/plain": [
       "'9,FL02-A,FL08-A,FL12-A,FL15-A,FL19-A,FL20-A,FL21-A,FL22-A,FL25-A,1.0000,0.0000,0.0001,0.0004,0.0000,0.0101,0.0520,0.0000,0.0001,0.0059,1.0000,0.0353,0.0003,0.0000,0.0064,0.0062,0.0179,0.0018,0.0199,0.0009,1.0000,0.0047,0.0001,0.0887,0.0487,0.0071,0.0012,0.0034,0.0125,0.0005,1.0000,0.0120,0.6845,0.0503,0.2263,0.4818,0.0087,0.0001,0.0006,0.0050,1.0000,0.1044,1.6071,0.0005,0.0011,0.0019,0.0059,0.0159,0.1277,0.0021,1.0000,0.0282,0.0002,0.0007,0.0470,0.0000,0.0001,0.0175,0.0000,0.2314,1.0000,0.0000,0.0001,0.0077,0.0120,0.0002,0.0008,0.0000,0.0047,0.0078,1.0000,0.0367,0.0007,0.0067,0.0001,0.0202,0.0000,0.0022,0.0024,0.3411,1.0000'"
      ]
     },
     "execution_count": 57,
     "metadata": {},
     "output_type": "execute_result"
    }
   ],
   "source": [
    "fcs_data.text.get(\"spillover\")"
   ]
  },
  {
   "cell_type": "markdown",
   "id": "37301806",
   "metadata": {},
   "source": [
    "## cytopy\n",
    "\n",
    "Utilising FlowIO\n",
    "\n",
    "Couldn't get it installed... but high quality code for data parsing. So I copied the read_write.py to _core.py with a few modifications:\n",
    "- allow reading in Path\n",
    "- catch ValueError when reading in fcs using flowio.FlowData\n",
    "- catch ParserError in processing date\n",
    "- fixed .compensate()\n",
    "\n",
    "\n",
    "--> see [quickstart](https://lamin.ai/readfcs/guides/quickstart)\n"
   ]
  },
  {
   "cell_type": "code",
   "execution_count": null,
   "id": "14d3f23a",
   "metadata": {},
   "outputs": [],
   "source": []
  }
 ],
 "metadata": {
  "interpreter": {
   "hash": "ae1fefc8646a06dd2e75004cd934adda7c5727b046986a772e3b44b0ffba9754"
  },
  "kernelspec": {
   "display_name": "Python 3.9.7 ('py39')",
   "language": "python",
   "name": "python3"
  },
  "language_info": {
   "codemirror_mode": {
    "name": "ipython",
    "version": 3
   },
   "file_extension": ".py",
   "mimetype": "text/x-python",
   "name": "python",
   "nbconvert_exporter": "python",
   "pygments_lexer": "ipython3",
   "version": "3.9.7"
  }
 },
 "nbformat": 4,
 "nbformat_minor": 5
}
