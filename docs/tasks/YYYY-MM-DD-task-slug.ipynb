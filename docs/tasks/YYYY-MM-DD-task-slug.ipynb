{
 "cells": [
  {
   "cell_type": "markdown",
   "id": "1d7b3b73-75f9-468d-8783-873ebadcab9b",
   "metadata": {},
   "source": [
    "# My task description"
   ]
  },
  {
   "cell_type": "code",
   "execution_count": null,
   "id": "97ec6631-8473-4a2d-b488-def921bb83de",
   "metadata": {},
   "outputs": [],
   "source": [
    "from nbproject import header"
   ]
  }
 ],
 "metadata": {
  "kernelspec": {
   "display_name": "Python 3 (ipykernel)",
   "language": "python",
   "name": "python3"
  },
  "language_info": {
   "codemirror_mode": {
    "name": "ipython",
    "version": 3
   },
   "file_extension": ".py",
   "mimetype": "text/x-python",
   "name": "python",
   "nbconvert_exporter": "python",
   "pygments_lexer": "ipython3",
   "version": "3.9.7"
  }
 },
 "nbformat": 4,
 "nbformat_minor": 5
}
