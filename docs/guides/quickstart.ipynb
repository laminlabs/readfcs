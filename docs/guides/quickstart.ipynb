{
 "cells": [
  {
   "cell_type": "markdown",
   "id": "0a9571ac-9c68-437f-ba51-95d06e283cac",
   "metadata": {},
   "source": [
    "# Quickstart"
   ]
  },
  {
   "cell_type": "code",
   "execution_count": null,
   "id": "10840920",
   "metadata": {},
   "outputs": [],
   "source": [
    "import readfcs"
   ]
  },
  {
   "cell_type": "markdown",
   "id": "03ebe0a7",
   "metadata": {},
   "source": [
    "## Data"
   ]
  },
  {
   "cell_type": "code",
   "execution_count": null,
   "id": "dd6e0129",
   "metadata": {},
   "outputs": [],
   "source": [
    "path_data = readfcs.datasets.example()"
   ]
  },
  {
   "cell_type": "markdown",
   "id": "050a004e",
   "metadata": {},
   "source": [
    "## Read in as a FCSFile instance"
   ]
  },
  {
   "cell_type": "code",
   "execution_count": null,
   "id": "891b7a83",
   "metadata": {},
   "outputs": [],
   "source": [
    "fcsfile = readfcs.FCSFile(path_data)"
   ]
  },
  {
   "cell_type": "code",
   "execution_count": null,
   "id": "0dace535",
   "metadata": {},
   "outputs": [],
   "source": [
    "fcsfile.spill"
   ]
  },
  {
   "cell_type": "code",
   "execution_count": null,
   "id": "2f5a282e",
   "metadata": {},
   "outputs": [],
   "source": [
    "fcsfile.compensate()"
   ]
  },
  {
   "cell_type": "code",
   "execution_count": null,
   "id": "2fa8d641",
   "metadata": {},
   "outputs": [],
   "source": [
    "fcsfile.event_data"
   ]
  },
  {
   "cell_type": "code",
   "execution_count": null,
   "id": "2f12c244",
   "metadata": {},
   "outputs": [],
   "source": [
    "fcsfile.event_data.shape"
   ]
  },
  {
   "cell_type": "code",
   "execution_count": null,
   "id": "518d5763",
   "metadata": {},
   "outputs": [],
   "source": [
    "fcsfile.channel_mappings"
   ]
  },
  {
   "cell_type": "code",
   "execution_count": null,
   "id": "b870a45a",
   "metadata": {},
   "outputs": [],
   "source": [
    "adata = fcsfile.to_anndata()"
   ]
  },
  {
   "cell_type": "code",
   "execution_count": null,
   "id": "17c71e13",
   "metadata": {},
   "outputs": [],
   "source": [
    "adata"
   ]
  },
  {
   "cell_type": "code",
   "execution_count": null,
   "id": "6ae1c984",
   "metadata": {},
   "outputs": [],
   "source": [
    "adata.var.index"
   ]
  },
  {
   "cell_type": "markdown",
   "id": "ef8f32a4",
   "metadata": {},
   "source": [
    "## Write to fcs files"
   ]
  },
  {
   "cell_type": "code",
   "execution_count": null,
   "id": "420cb918",
   "metadata": {},
   "outputs": [],
   "source": [
    "fcsfile.write_fcs(\"test.fcs\")"
   ]
  }
 ],
 "metadata": {
  "interpreter": {
   "hash": "ae1fefc8646a06dd2e75004cd934adda7c5727b046986a772e3b44b0ffba9754"
  },
  "kernelspec": {
   "display_name": "Python 3.9.7 ('py39')",
   "language": "python",
   "name": "python3"
  },
  "language_info": {
   "codemirror_mode": {
    "name": "ipython",
    "version": 3
   },
   "file_extension": ".py",
   "mimetype": "text/x-python",
   "name": "python",
   "nbconvert_exporter": "python",
   "pygments_lexer": "ipython3",
   "version": "3.9.13"
  }
 },
 "nbformat": 4,
 "nbformat_minor": 5
}
