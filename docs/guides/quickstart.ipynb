{
 "cells": [
  {
   "cell_type": "markdown",
   "id": "0a9571ac-9c68-437f-ba51-95d06e283cac",
   "metadata": {},
   "source": [
    "# Quickstart"
   ]
  },
  {
   "cell_type": "markdown",
   "id": "0abfc3c7",
   "metadata": {},
   "source": [
    "`readfcs.FCSFile` is modified from `cytopy` `read_write.py` to:\n",
    "- allow reading in Path object\n",
    "- catch ValueError when reading in fcs using flowio.FlowData\n",
    "- catch ParserError in processing date\n",
    "- fix the shape mismatch in .compensate()\n"
   ]
  },
  {
   "cell_type": "code",
   "execution_count": null,
   "id": "10840920",
   "metadata": {},
   "outputs": [],
   "source": [
    "import readfcs"
   ]
  },
  {
   "cell_type": "code",
   "execution_count": null,
   "id": "14d3f23a",
   "metadata": {},
   "outputs": [],
   "source": [
    "%load_ext autoreload\n",
    "%autoreload 2"
   ]
  },
  {
   "cell_type": "markdown",
   "id": "03ebe0a7",
   "metadata": {},
   "source": [
    "## Data"
   ]
  },
  {
   "cell_type": "code",
   "execution_count": null,
   "id": "c98f040c",
   "metadata": {},
   "outputs": [],
   "source": [
    "import os\n",
    "from pathlib import Path\n",
    "\n",
    "# adjust this directory as needed\n",
    "emailed_data = (\n",
    "    Path.home() / \"Library/Mobile Documents/com~apple~CloudDocs/Lamin/Emailed data\"\n",
    ")\n",
    "\n",
    "basedir = os.chdir(emailed_data / \"2021-03-24 Maren DZNE/data\")\n",
    "\n",
    "path_data = Path(\"A1 3804-CV-1 DMSO.785309.fcs\")"
   ]
  },
  {
   "cell_type": "markdown",
   "id": "050a004e",
   "metadata": {},
   "source": [
    "## FCSFile"
   ]
  },
  {
   "cell_type": "code",
   "execution_count": null,
   "id": "891b7a83",
   "metadata": {},
   "outputs": [],
   "source": [
    "fcsfile = readfcs.FCSFile(path_data)"
   ]
  },
  {
   "cell_type": "code",
   "execution_count": null,
   "id": "2f5a282e",
   "metadata": {},
   "outputs": [],
   "source": [
    "fcsfile.compensate()"
   ]
  }
 ],
 "metadata": {
  "kernelspec": {
   "display_name": "Python 3 (ipykernel)",
   "language": "python",
   "name": "python3"
  },
  "language_info": {
   "codemirror_mode": {
    "name": "ipython",
    "version": 3
   },
   "file_extension": ".py",
   "mimetype": "text/x-python",
   "name": "python",
   "nbconvert_exporter": "python",
   "pygments_lexer": "ipython3",
   "version": "3.9.7"
  }
 },
 "nbformat": 4,
 "nbformat_minor": 5
}
