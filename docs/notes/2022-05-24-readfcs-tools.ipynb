{
 "cells": [
  {
   "cell_type": "markdown",
   "id": "1d7b3b73-75f9-468d-8783-873ebadcab9b",
   "metadata": {},
   "source": [
    "# Overview of fcs readers\n",
    "\n",
    "This notebook explores a couple popular fcs python readers:\n",
    "- pytometry\n",
    "- fcsparser\n",
    "- flowio\n",
    "- cytopy"
   ]
  },
  {
   "cell_type": "code",
   "execution_count": null,
   "id": "2435de87",
   "metadata": {},
   "outputs": [],
   "source": [
    "from nbproject import header"
   ]
  },
  {
   "cell_type": "code",
   "execution_count": null,
   "id": "9f145854",
   "metadata": {},
   "outputs": [],
   "source": [
    "%load_ext autoreload\n",
    "%autoreload 2"
   ]
  },
  {
   "cell_type": "markdown",
   "id": "d9b18fb5",
   "metadata": {},
   "source": [
    "## Data"
   ]
  },
  {
   "cell_type": "code",
   "execution_count": null,
   "id": "264b82e5",
   "metadata": {},
   "outputs": [],
   "source": [
    "import os\n",
    "from pathlib import Path\n",
    "\n",
    "# adjust this directory as needed\n",
    "emailed_data = (\n",
    "    Path.home() / \"Library/Mobile Documents/com~apple~CloudDocs/Lamin/Emailed data\"\n",
    ")\n",
    "\n",
    "basedir = os.chdir(emailed_data / \"2021-03-24 Maren DZNE/data\")\n",
    "\n",
    "path_data = Path(\"A1 3804-CV-1 DMSO.785309.fcs\")"
   ]
  },
  {
   "cell_type": "markdown",
   "id": "03b6658e",
   "metadata": {},
   "source": [
    "## pytometry\n",
    "\n",
    "- pytometry parse data into an AnnData object\n",
    "- stores headers in .uns['meta']\n",
    "- stores spillover matrix in .uns['spill_mat']\n",
    "- computes a compensation matrix from spillover matrix and store it in .uns['comp_mat']"
   ]
  },
  {
   "cell_type": "code",
   "execution_count": null,
   "id": "75092406",
   "metadata": {},
   "outputs": [],
   "source": [
    "import pytometry as pm\n",
    "\n",
    "adata = pm.io.readandconvert(path_data)\n",
    "adata"
   ]
  },
  {
   "cell_type": "code",
   "execution_count": null,
   "id": "a776906c",
   "metadata": {},
   "outputs": [],
   "source": [
    "adata.uns[\"spill_mat\"]"
   ]
  },
  {
   "cell_type": "markdown",
   "id": "dce6f849",
   "metadata": {},
   "source": [
    "## fcsparser\n",
    "\n",
    "fcsparser is very basic, just parses the file into two objects: \n",
    "- meta: a dict containing info\n",
    "- data: a dataframe"
   ]
  },
  {
   "cell_type": "code",
   "execution_count": null,
   "id": "edc8c56a",
   "metadata": {},
   "outputs": [],
   "source": [
    "import fcsparser\n",
    "\n",
    "meta, data = fcsparser.parse(path_data, reformat_meta=True)"
   ]
  },
  {
   "cell_type": "code",
   "execution_count": null,
   "id": "1c3d77ed",
   "metadata": {},
   "outputs": [],
   "source": [
    "data.shape"
   ]
  },
  {
   "cell_type": "code",
   "execution_count": null,
   "id": "d6aaaafa",
   "metadata": {},
   "outputs": [],
   "source": [
    "meta.keys()"
   ]
  },
  {
   "cell_type": "code",
   "execution_count": null,
   "id": "0133a527",
   "metadata": {},
   "outputs": [],
   "source": [
    "meta.get(\"_channels_\")"
   ]
  },
  {
   "cell_type": "markdown",
   "id": "bfbb275a",
   "metadata": {},
   "source": [
    "## flowio\n",
    "\n",
    "FlowIO retrieves event data exactly as it is encoded in the FCS file: as a 1-dimensional list without separating the events into channels. However, all the metadata found within the FCS file is available as a dictionary via the 'text' attribute. Basic attributes are also available for commonly accessed properties."
   ]
  },
  {
   "cell_type": "markdown",
   "id": "cd7223ab",
   "metadata": {},
   "source": [
    "- operates as FlowData objects\n",
    "- couldn't handle Path object as input\n",
    "- gives a warning to set `ignore_offset_error=True`"
   ]
  },
  {
   "cell_type": "code",
   "execution_count": null,
   "id": "d729105a",
   "metadata": {},
   "outputs": [],
   "source": [
    "import flowio\n",
    "\n",
    "fcs_data = flowio.FlowData(\"A1 3804-CV-1 DMSO.785309.fcs\", ignore_offset_error=True)"
   ]
  },
  {
   "cell_type": "code",
   "execution_count": null,
   "id": "ad968f38",
   "metadata": {},
   "outputs": [],
   "source": [
    "[i for i in fcs_data.__dir__() if not i.startswith(\"_\")]"
   ]
  },
  {
   "cell_type": "code",
   "execution_count": null,
   "id": "baf6e3ea",
   "metadata": {},
   "outputs": [],
   "source": [
    "fcs_data.text.get(\"spillover\")"
   ]
  },
  {
   "cell_type": "markdown",
   "id": "37301806",
   "metadata": {},
   "source": [
    "## cytopy\n",
    "\n",
    "Utilising FlowIO\n",
    "\n",
    "Couldn't get it installed... but high quality code for data parsing. So I copied the read_write.py to _core.py with a few modifications:\n",
    "- allow reading in Path\n",
    "- catch ValueError when reading in fcs using flowio.FlowData\n",
    "- catch ParserError in processing date\n",
    "- fixed .compensate()\n",
    "\n",
    "\n",
    "--> see [quickstart](https://lamin.ai/readfcs/guides/quickstart)\n"
   ]
  }
 ],
 "metadata": {
  "kernelspec": {
   "display_name": "Python 3.9.12 ('base1')",
   "language": "python",
   "name": "python3"
  },
  "language_info": {
   "codemirror_mode": {
    "name": "ipython",
    "version": 3
   },
   "file_extension": ".py",
   "mimetype": "text/x-python",
   "name": "python",
   "nbconvert_exporter": "python",
   "pygments_lexer": "ipython3",
   "version": "3.9.12"
  },
  "nbproject": {
   "dependency": {
    "FlowIO": "1.0.1",
    "fcsparser": "",
    "nbproject": "0.1.5",
    "pytometry": ""
   },
   "id": "rx87FTFuqcUj",
   "time_init": "2022-07-07T10:15:11.403532+00:00",
   "version": "draft"
  },
  "vscode": {
   "interpreter": {
    "hash": "2775e555cdc2d728c54aa22130c79afb1fa4da64f22f2fc6dcc2aa346c4e0672"
   }
  }
 },
 "nbformat": 4,
 "nbformat_minor": 5
}
