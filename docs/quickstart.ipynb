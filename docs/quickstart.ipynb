{
 "cells": [
  {
   "cell_type": "markdown",
   "id": "0a9571ac-9c68-437f-ba51-95d06e283cac",
   "metadata": {},
   "source": [
    "# Quickstart\n",
    "\n",
    "`readfcs` is a thin wrapper to that loads fcs files into `AnnData` objects. \n",
    "\n",
    "It builds on FlowIO [White21] for the FCS reader and the FCSFile class of cytopy [Burton21] for preprocessing of parsed metadata.\n",
    "\n",
    "Simply use `readfcs.read()` to get started, it also provides access to the `FCSFile` class from `cytopy`."
   ]
  },
  {
   "cell_type": "code",
   "execution_count": null,
   "id": "10840920",
   "metadata": {},
   "outputs": [],
   "source": [
    "import readfcs"
   ]
  },
  {
   "cell_type": "markdown",
   "id": "03ebe0a7",
   "metadata": {},
   "source": [
    "## Data\n",
    "\n",
    "Here we use an example .fcs file."
   ]
  },
  {
   "cell_type": "code",
   "execution_count": null,
   "id": "dd6e0129",
   "metadata": {},
   "outputs": [],
   "source": [
    "datapath = readfcs.datasets.example()"
   ]
  },
  {
   "cell_type": "code",
   "execution_count": null,
   "id": "922bb7a6",
   "metadata": {},
   "outputs": [],
   "source": [
    "datapath"
   ]
  },
  {
   "cell_type": "markdown",
   "id": "7ac36a97",
   "metadata": {},
   "source": [
    "## High level `read()` function"
   ]
  },
  {
   "cell_type": "code",
   "execution_count": null,
   "id": "3c0456d7",
   "metadata": {},
   "outputs": [],
   "source": [
    "adata = readfcs.read(datapath)"
   ]
  },
  {
   "cell_type": "markdown",
   "id": "15aac112",
   "metadata": {},
   "source": [
    "Metadata is stored as a dictionary in `adata.uns.meta`"
   ]
  },
  {
   "cell_type": "code",
   "execution_count": null,
   "id": "aa9b8d99",
   "metadata": {},
   "outputs": [],
   "source": [
    "adata"
   ]
  },
  {
   "cell_type": "code",
   "execution_count": null,
   "id": "b8e12146",
   "metadata": {},
   "outputs": [],
   "source": [
    "adata.var"
   ]
  },
  {
   "cell_type": "code",
   "execution_count": null,
   "id": "7bfbb231",
   "metadata": {},
   "outputs": [],
   "source": [
    "adata.uns[\"meta\"][\"spill\"]"
   ]
  },
  {
   "cell_type": "code",
   "execution_count": null,
   "id": "de86f44e",
   "metadata": {},
   "outputs": [],
   "source": [
    "adata.write(\"example.h5ad\")"
   ]
  },
  {
   "cell_type": "markdown",
   "id": "050a004e",
   "metadata": {},
   "source": [
    "## Read in as a FCSFile instance\n",
    "\n",
    "ReadFCS class offers additional functionalities such as `.compensate`"
   ]
  },
  {
   "cell_type": "code",
   "execution_count": null,
   "id": "891b7a83",
   "metadata": {},
   "outputs": [],
   "source": [
    "fcsfile = readfcs.ReadFCS(datapath)"
   ]
  },
  {
   "cell_type": "code",
   "execution_count": null,
   "id": "2fa8d641",
   "metadata": {},
   "outputs": [],
   "source": [
    "fcsfile.data.iloc[:5, 5:10]"
   ]
  },
  {
   "cell_type": "markdown",
   "id": "ec5428f1",
   "metadata": {},
   "source": [
    "This equals to `adata.uns['meta']`"
   ]
  },
  {
   "cell_type": "code",
   "execution_count": null,
   "id": "8e0e8b41",
   "metadata": {},
   "outputs": [],
   "source": [
    "fcsfile.meta.get(\"cyt\")"
   ]
  },
  {
   "cell_type": "markdown",
   "id": "03ba7e77",
   "metadata": {},
   "source": [
    "Perform compensation."
   ]
  },
  {
   "cell_type": "code",
   "execution_count": null,
   "id": "2f5a282e",
   "metadata": {},
   "outputs": [],
   "source": [
    "fcsfile.compensate()"
   ]
  },
  {
   "cell_type": "code",
   "execution_count": null,
   "id": "1acafc90",
   "metadata": {},
   "outputs": [],
   "source": [
    "fcsfile.data.iloc[:5, 5:10]"
   ]
  },
  {
   "cell_type": "code",
   "execution_count": null,
   "id": "6e575c90",
   "metadata": {},
   "outputs": [],
   "source": []
  }
 ],
 "metadata": {
  "interpreter": {
   "hash": "ae1fefc8646a06dd2e75004cd934adda7c5727b046986a772e3b44b0ffba9754"
  },
  "kernelspec": {
   "display_name": "Python 3.9.7 ('py39')",
   "language": "python",
   "name": "python3"
  },
  "language_info": {
   "codemirror_mode": {
    "name": "ipython",
    "version": 3
   },
   "file_extension": ".py",
   "mimetype": "text/x-python",
   "name": "python",
   "nbconvert_exporter": "python",
   "pygments_lexer": "ipython3",
   "version": "3.9.13"
  }
 },
 "nbformat": 4,
 "nbformat_minor": 5
}
