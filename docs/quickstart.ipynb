{
 "cells": [
  {
   "attachments": {},
   "cell_type": "markdown",
   "id": "0a9571ac-9c68-437f-ba51-95d06e283cac",
   "metadata": {},
   "source": [
    "# Quickstart\n",
    "\n",
    "`readfcs` is a lightweight open-source Python package for loading fcs files into `AnnData` objects. \n",
    "\n",
    "- Simply use {class}`~readfcs.read` to get started.\n",
    "- Use {class}`~readfcs.ReadFCS` class to access advanced features such as compensation.\n",
    "- Use {class}`~readfcs.view` to inspect the raw content of the FCS file and debug failures in reading."
   ]
  },
  {
   "cell_type": "code",
   "execution_count": null,
   "id": "10840920",
   "metadata": {},
   "outputs": [],
   "source": [
    "import readfcs"
   ]
  },
  {
   "cell_type": "markdown",
   "id": "03ebe0a7",
   "metadata": {},
   "source": [
    "## Data\n",
    "\n",
    "Here we use a fcs file from [Oetjen18](https://insight.jci.org/articles/view/124928)."
   ]
  },
  {
   "cell_type": "code",
   "execution_count": null,
   "id": "dd6e0129",
   "metadata": {},
   "outputs": [],
   "source": [
    "datapath = readfcs.datasets.Oetjen18_t1()"
   ]
  },
  {
   "cell_type": "code",
   "execution_count": null,
   "id": "922bb7a6",
   "metadata": {},
   "outputs": [],
   "source": [
    "datapath"
   ]
  },
  {
   "attachments": {},
   "cell_type": "markdown",
   "id": "7ac36a97",
   "metadata": {},
   "source": [
    "## High level `read()` function: fcs -> AnnData"
   ]
  },
  {
   "cell_type": "code",
   "execution_count": null,
   "id": "3c0456d7",
   "metadata": {},
   "outputs": [],
   "source": [
    "adata = readfcs.read(datapath)"
   ]
  },
  {
   "cell_type": "markdown",
   "id": "15aac112",
   "metadata": {},
   "source": [
    "Metadata is stored as a dictionary in `adata.uns.meta`"
   ]
  },
  {
   "cell_type": "code",
   "execution_count": null,
   "id": "aa9b8d99",
   "metadata": {},
   "outputs": [],
   "source": [
    "adata"
   ]
  },
  {
   "cell_type": "code",
   "execution_count": null,
   "id": "b8e12146",
   "metadata": {},
   "outputs": [],
   "source": [
    "adata.var"
   ]
  },
  {
   "cell_type": "code",
   "execution_count": null,
   "id": "7bfbb231",
   "metadata": {},
   "outputs": [],
   "source": [
    "adata.uns[\"meta\"][\"spill\"]"
   ]
  },
  {
   "cell_type": "code",
   "execution_count": null,
   "id": "de86f44e",
   "metadata": {},
   "outputs": [],
   "source": [
    "adata.write(\"oetjen18_t1.h5ad\")"
   ]
  },
  {
   "attachments": {},
   "cell_type": "markdown",
   "id": "050a004e",
   "metadata": {},
   "source": [
    "## Using FCSFile class for accessing attributes and compensation\n",
    "\n",
    "ReadFCS class offers additional functionalities such as `.compensate`"
   ]
  },
  {
   "cell_type": "code",
   "execution_count": null,
   "id": "891b7a83",
   "metadata": {},
   "outputs": [],
   "source": [
    "fcsfile = readfcs.ReadFCS(datapath)"
   ]
  },
  {
   "attachments": {},
   "cell_type": "markdown",
   "id": "cf251cac",
   "metadata": {},
   "source": [
    "Data is stored as a DataFrane in `.data`"
   ]
  },
  {
   "cell_type": "code",
   "execution_count": null,
   "id": "2fa8d641",
   "metadata": {},
   "outputs": [],
   "source": [
    "fcsfile.data.iloc[:5, 5:10]"
   ]
  },
  {
   "attachments": {},
   "cell_type": "markdown",
   "id": "bf99a9a5",
   "metadata": {},
   "source": [
    "Metadata is stored as a dict in `.meta`\n",
    "\n",
    "This equals to `adata.uns['meta']`"
   ]
  },
  {
   "cell_type": "code",
   "execution_count": null,
   "id": "8e0e8b41",
   "metadata": {},
   "outputs": [],
   "source": [
    "fcsfile.meta.get(\"$CYT\")"
   ]
  },
  {
   "cell_type": "markdown",
   "id": "03ba7e77",
   "metadata": {},
   "source": [
    "Perform compensation."
   ]
  },
  {
   "cell_type": "code",
   "execution_count": null,
   "id": "2f5a282e",
   "metadata": {},
   "outputs": [],
   "source": [
    "fcsfile.compensate()"
   ]
  },
  {
   "attachments": {},
   "cell_type": "markdown",
   "id": "ac8ef6b8",
   "metadata": {},
   "source": [
    "Check the compensated data."
   ]
  },
  {
   "cell_type": "code",
   "execution_count": null,
   "id": "1acafc90",
   "metadata": {},
   "outputs": [],
   "source": [
    "fcsfile.data.iloc[:5, 5:10]"
   ]
  },
  {
   "attachments": {},
   "cell_type": "markdown",
   "id": "0e765051",
   "metadata": {},
   "source": [
    "## View the FCS file content\n",
    "\n",
    "When reading in FCS file fails, you may view the content of the file to debug:"
   ]
  },
  {
   "cell_type": "code",
   "execution_count": null,
   "id": "cdc4257f",
   "metadata": {},
   "outputs": [],
   "source": [
    "meta, data = readfcs.view(datapath)"
   ]
  },
  {
   "cell_type": "code",
   "execution_count": null,
   "id": "ae96bc86",
   "metadata": {},
   "outputs": [],
   "source": [
    "meta"
   ]
  },
  {
   "cell_type": "code",
   "execution_count": null,
   "id": "56dd9bf4",
   "metadata": {},
   "outputs": [],
   "source": [
    "data"
   ]
  }
 ],
 "metadata": {
  "interpreter": {
   "hash": "ae1fefc8646a06dd2e75004cd934adda7c5727b046986a772e3b44b0ffba9754"
  },
  "kernelspec": {
   "display_name": "Python 3.9.7 ('py39')",
   "language": "python",
   "name": "python3"
  },
  "language_info": {
   "codemirror_mode": {
    "name": "ipython",
    "version": 3
   },
   "file_extension": ".py",
   "mimetype": "text/x-python",
   "name": "python",
   "nbconvert_exporter": "python",
   "pygments_lexer": "ipython3",
   "version": "3.9.16"
  }
 },
 "nbformat": 4,
 "nbformat_minor": 5
}
